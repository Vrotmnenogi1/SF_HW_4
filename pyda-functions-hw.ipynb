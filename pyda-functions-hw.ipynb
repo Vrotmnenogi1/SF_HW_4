{
 "cells": [
  {
   "cell_type": "markdown",
   "metadata": {},
   "source": [
    "## Задание 1"
   ]
  },
  {
   "cell_type": "markdown",
   "metadata": {},
   "source": [
    "Дан список вида:"
   ]
  },
  {
   "cell_type": "code",
   "execution_count": 2,
   "metadata": {},
   "outputs": [],
   "source": [
    "data = [\n",
    "    [13, 25, 23, 34],\n",
    "    [45, 32, 44, 47],\n",
    "    [12, 33, 23, 95],\n",
    "    [13, 53, 34, 35]\n",
    "]\n"
   ]
  },
  {
   "cell_type": "markdown",
   "metadata": {},
   "source": [
    "Напишите функцию, которая возвращает сумму элементов на диагонали. Т. е. 13+32+23+35.  \n",
    "Список может быть любой длины, но всегда является \"квадратным\" (количество элементов во вложенных списках равно их количеству)."
   ]
  },
  {
   "cell_type": "code",
   "execution_count": 3,
   "metadata": {},
   "outputs": [
    {
     "name": "stdout",
     "output_type": "stream",
     "text": [
      "103\n"
     ]
    }
   ],
   "source": [
    "def diag (data):\n",
    "    counter = 0\n",
    "    summa = 0\n",
    "    for i in data:\n",
    "        summa += i[counter]\n",
    "        counter += 1\n",
    "    return summa\n",
    "    \n",
    "print(diag(data))"
   ]
  },
  {
   "cell_type": "markdown",
   "metadata": {},
   "source": [
    "## Задание 2"
   ]
  },
  {
   "cell_type": "markdown",
   "metadata": {},
   "source": [
    "Напишите функцию, возвращающую сумму первых n чисел Фибоначчи (для этого вам может понадобится ознакомиться с рекурсией)."
   ]
  },
  {
   "cell_type": "code",
   "execution_count": 4,
   "metadata": {},
   "outputs": [
    {
     "data": {
      "text/plain": [
       "34"
      ]
     },
     "execution_count": 4,
     "metadata": {},
     "output_type": "execute_result"
    }
   ],
   "source": [
    "'Исходя из предположения, что первая пара чисел - 0 и 1'\n",
    "\n",
    "def fibb (n):\n",
    "    if n == 1:       \n",
    "        return 0\n",
    "    elif n == 2: \n",
    "        return 1\n",
    "    else: \n",
    "        return fibb(n-1) + fibb(n-2)\n",
    "        \n",
    "fibb (10)"
   ]
  },
  {
   "cell_type": "markdown",
   "metadata": {},
   "source": [
    "## Задание 3\n"
   ]
  },
  {
   "cell_type": "markdown",
   "metadata": {},
   "source": [
    "Напишите функцию, преобразующую произвольный список вида ['2018-01-01', 'yandex', 'cpc', 100] (он может быть любой длины) в словарь {'2018-01-01': {'yandex': {'cpc': 100}}}"
   ]
  },
  {
   "cell_type": "code",
   "execution_count": 5,
   "metadata": {},
   "outputs": [
    {
     "data": {
      "text/plain": [
       "{'2018-01-01': {'yandex': {'cpc': 100}}}"
      ]
     },
     "execution_count": 5,
     "metadata": {},
     "output_type": "execute_result"
    }
   ],
   "source": [
    "def list_to_dict(list01):\n",
    "    last_elem = list01[-1]\n",
    "    \n",
    "    for elem in list01[-2::-1]:\n",
    "        last_elem = {elem : last_elem}\n",
    "\n",
    "    return last_elem\n",
    "\n",
    "list01 =  ['2018-01-01', 'yandex', 'cpc', 100]\n",
    "\n",
    "list_to_dict(list01)"
   ]
  },
  {
   "cell_type": "markdown",
   "metadata": {},
   "source": [
    "## Задание 4"
   ]
  },
  {
   "cell_type": "markdown",
   "metadata": {},
   "source": [
    "Вы работаете секретарем и вам постоянно приходят различные документы. Вы должны быть очень внимательны, чтобы не потерять ни один документ. Каталог документов хранится в следующем виде:"
   ]
  },
  {
   "cell_type": "code",
   "execution_count": 4,
   "metadata": {},
   "outputs": [],
   "source": [
    "documents = [\n",
    "    {'type': 'passport', 'number': '2207 876234', 'name': 'Василий Гупкин'},\n",
    "    {'type': 'invoice', 'number': '11-2', 'name': 'Геннадий Покемонов'},\n",
    "    {'type': 'insurance', 'number': '10006', 'name': 'Аристарх Павлов'}\n",
    "]"
   ]
  },
  {
   "cell_type": "markdown",
   "metadata": {},
   "source": [
    "Перечень полок, на которых находятся документы хранится в следующем виде:"
   ]
  },
  {
   "cell_type": "code",
   "execution_count": 5,
   "metadata": {},
   "outputs": [],
   "source": [
    "directories = {\n",
    "    '1': ['2207 876234', '11-2', '5455 028765'],\n",
    "    '2': ['10006', '5400 028765', '5455 002299'],\n",
    "    '3': []\n",
    "}"
   ]
  },
  {
   "cell_type": "markdown",
   "metadata": {},
   "source": [
    "### Необходимо реализовать пользовательские команды (внимание! это не название функций, которые должны быть выразительными, а команды, которые вводит пользователь, чтобы получить необходимый результат):\n",
    "  \n",
    "- p – people – команда, которая спросит номер документа и выведет имя человека, которому он принадлежит;  \n",
    "- s – shelf – команда, которая спросит номер документа и выведет номер полки, на которой он находится  \n",
    "Правильно обработайте ситуацию, когда пользователь будет вводить несуществующий документ.\n",
    "- l – list – команда, которая выведет список всех документов в формате   \n",
    "**passport \"2207 876234\" \"Василий Гупкин\"**  \n",
    "- as – add shelf – команда, которая спросит номер новой полки и добавит ее в перечень\n",
    "- d – delete – команда, которая спросит номер документа и удалит его из каталога и из перечня полок. Предусмотрите сценарий, когда пользователь вводит несуществующий документ;  \n",
    "- m – move – команда, которая спросит номер документа и целевую полку и переместит его с текущей полки на целевую. Корректно обработайте кейсы, когда пользователь пытается переместить несуществующий документ или переместить документ на несуществующую полку;  \n",
    "- a – add – команда, которая добавит новый документ в каталог и в перечень полок, спросив его номер, тип, имя владельца и номер полки, на котором он будет храниться."
   ]
  },
  {
   "cell_type": "code",
   "execution_count": 61,
   "metadata": {
    "scrolled": true
   },
   "outputs": [
    {
     "name": "stdout",
     "output_type": "stream",
     "text": [
      "Введите номер документа: 11\n"
     ]
    },
    {
     "data": {
      "text/plain": [
       "'Такого документа нет'"
      ]
     },
     "execution_count": 61,
     "metadata": {},
     "output_type": "execute_result"
    }
   ],
   "source": [
    "def get_user_name(doc_num):\n",
    "    doc_num = input('Введите номер документа: ')\n",
    "    for elem  in documents:\n",
    "        if elem.get('number') == doc_num:\n",
    "            return elem ['name']\n",
    "    return 'Такого документа нет'\n",
    "get_user_name('11-2')"
   ]
  },
  {
   "cell_type": "code",
   "execution_count": 77,
   "metadata": {},
   "outputs": [
    {
     "name": "stdout",
     "output_type": "stream",
     "text": [
      "11-2\n",
      "Документ хранится на полке 1\n"
     ]
    }
   ],
   "source": [
    "def get_directories ():\n",
    "    doc_num = input()\n",
    "    for directory, num in directories.items():\n",
    "        if doc_num in num:\n",
    "            return print('Документ хранится на полке ' + directory)\n",
    "    return 'Такого документа нет'  \n",
    "\n",
    "get_directories()"
   ]
  },
  {
   "cell_type": "code",
   "execution_count": 32,
   "metadata": {},
   "outputs": [],
   "source": [
    "def get_doc_list():\n",
    "    print('Перечень документов на полке: ')\n",
    "    for elem in documents:\n",
    "        print('**' + elem['type'] + ' \"' +elem['number'] + '\" ' + elem['name'] + '\"**')\n",
    "       "
   ]
  },
  {
   "cell_type": "code",
   "execution_count": 41,
   "metadata": {},
   "outputs": [
    {
     "name": "stdout",
     "output_type": "stream",
     "text": [
      "Введите значение для новой полки: 1233\n",
      "Перечень полок после обновления \n",
      "['1', '2', '3', '4', '5', '123', '1231243', '12312312312321', '2321313', '1233']\n"
     ]
    }
   ],
   "source": [
    "def add_shelf():\n",
    "    new_item = input('Введите значение для новой полки: ')\n",
    "    if new_item in directories:\n",
    "        print('Не могу добавить новый ключ, значение уже существует!')\n",
    "    else:\n",
    "        directories[new_item] = []\n",
    "        print('Список полок после обновления:')\n",
    "        print(list(directories.keys()))\n",
    "add_shelf()"
   ]
  },
  {
   "cell_type": "code",
   "execution_count": 12,
   "metadata": {},
   "outputs": [],
   "source": [
    "def del_doc():\n",
    "    doc_num = input('Номер документа для удаления ')\n",
    "    del_flag = False\n",
    "    for elem in documents:\n",
    "        if doc_num == elem['number']:\n",
    "            documents.remove(elem)\n",
    "            del_flag = True\n",
    "    if del_flag == False:\n",
    "        print('Такого документа нет!')\n",
    "    for key, value in directories.items():\n",
    "        if value.count(doc_num) != 0:\n",
    "            directories[key].remove(doc_num)\n"
   ]
  },
  {
   "cell_type": "code",
   "execution_count": 13,
   "metadata": {},
   "outputs": [
    {
     "name": "stdout",
     "output_type": "stream",
     "text": [
      "Введите номер документа для перемещения: 11\n"
     ]
    }
   ],
   "source": [
    "def move_doc():\n",
    "    doc_num = input('Введите номер документа для перемещения: ')   \n",
    "    for directory, num in directories.items():\n",
    "        if doc_num in num:\n",
    "            print('Документ хранится на полке ' + directory + '. На какую полку переместить?')\n",
    "            doc_dir = input('Введите номер полки для перемещения ')\n",
    "            if doc_dir in directories.keys():\n",
    "                directories[directory].remove(doc_num)\n",
    "                directories[doc_dir].append(doc_num)\n",
    "                return\n",
    "            else: \n",
    "                return 'Такой полки нет'  \n",
    "        else: 'Такого документа нет'\n",
    "    return\n",
    "move_doc()"
   ]
  },
  {
   "cell_type": "code",
   "execution_count": 12,
   "metadata": {},
   "outputs": [
    {
     "data": {
      "text/plain": [
       "{'1': ['2207 876234', '5455 028765', '11-2'],\n",
       " '2': ['10006', '5400 028765', '5455 002299'],\n",
       " '3': []}"
      ]
     },
     "execution_count": 12,
     "metadata": {},
     "output_type": "execute_result"
    }
   ],
   "source": [
    "directories"
   ]
  },
  {
   "cell_type": "code",
   "execution_count": 99,
   "metadata": {},
   "outputs": [
    {
     "name": "stdout",
     "output_type": "stream",
     "text": [
      "Введите номер документа для перемещения: 11-2\n"
     ]
    },
    {
     "data": {
      "text/plain": [
       "dict_values([['2207 876234', '11-2', '5455 028765'], ['10006', '5400 028765', '5455 002299'], []])"
      ]
     },
     "execution_count": 99,
     "metadata": {},
     "output_type": "execute_result"
    }
   ],
   "source": [
    "doc_num = input('Введите номер документа для перемещения: ')   \n",
    "directories.values()"
   ]
  },
  {
   "cell_type": "code",
   "execution_count": 104,
   "metadata": {},
   "outputs": [
    {
     "name": "stdout",
     "output_type": "stream",
     "text": [
      "1\n"
     ]
    }
   ],
   "source": [
    "doc_num = '11-2'\n",
    "ofr directory, num in directories.items():\n",
    "    if doc_num in num:\n",
    "        print(directory)\n"
   ]
  },
  {
   "cell_type": "code",
   "execution_count": 14,
   "metadata": {},
   "outputs": [
    {
     "name": "stdout",
     "output_type": "stream",
     "text": [
      "Введите номер документа: 11\n",
      "Введите тип документа: 11123\n",
      "Введите имя владельца документа: 123213\n",
      "Введите номер полки для документа: 123213\n",
      "Неверный номер полки\n"
     ]
    }
   ],
   "source": [
    "def add_doc(documents, directories):\n",
    "    doc_num = input('Введите номер документа: ')\n",
    "    doc_type = input('Введите тип документа: ')\n",
    "    doc_name = input('Введите имя владельца документа: ')\n",
    "    doc_dir = input('Введите номер полки для документа: ')\n",
    "    if doc_dir not in directories:\n",
    "        return print('Неверный номер полки')\n",
    "    documents.append({'type': doc_type,'number': doc_num, 'name': doc_name })\n",
    "    directories[doc_dir].append(doc_num)\n",
    "    return\n",
    "add_doc(documents, directories)"
   ]
  },
  {
   "cell_type": "code",
   "execution_count": null,
   "metadata": {},
   "outputs": [],
   "source": [
    "def menu():\n",
    "    command = input('Введите команду для выполнения программы. Для выхода, введите \"q\": ')\n",
    "    while True:\n",
    "        if command == 'p': \n",
    "            return get_user_name()\n",
    "        elif command == 's':\n",
    "            doc_num = input('Введите номер документа: ')\n",
    "            return get_directories ()\n",
    "        elif command == 'l':\n",
    "            return  get_doc_list() \n",
    "        elif command == 'as':\n",
    "            return add_shelf()\n",
    "        elif command == 'd':\n",
    "            return del_doc()\n",
    "        elif command == 'm':\n",
    "            return move_doc()\n",
    "        elif command == 'a':\n",
    "            return add_doc(documents, directories)\n",
    "        elif command == 'q':\n",
    "            return 'Работа программы завершена!'\n",
    "menu()"
   ]
  },
  {
   "cell_type": "code",
   "execution_count": null,
   "metadata": {},
   "outputs": [],
   "source": [
    "p – people – команда, которая спросит номер документа и выведет имя человека, которому он принадлежит;\n",
    "s – shelf – команда, которая спросит номер документа и выведет номер полки, на которой он находится\n",
    "Правильно обработайте ситуацию, когда пользователь будет вводить несуществующий документ.\n",
    "l – list – команда, которая выведет список всех документов в формате\n",
    "passport \"2207 876234\" \"Василий Гупкин\"\n",
    "as – add shelf – команда, которая спросит номер новой полки и добавит ее в перечень\n",
    "d – delete – команда, которая спросит номер документа и удалит его из каталога и из перечня полок. Предусмотрите сценарий, когда пользователь вводит несуществующий документ;\n",
    "m – move – команда, которая спросит номер документа и целевую полку и переместит его с текущей полки на целевую. Корректно обработайте кейсы, когда пользователь пытается переместить несуществующий документ или переместить документ на несуществующую полку;\n",
    "a – add – команда, которая добавит новый документ в каталог и в перечень полок, спросив его номер, тип, имя владельца и номер полки, на котором он будет храниться."
   ]
  }
 ],
 "metadata": {
  "kernelspec": {
   "display_name": "Python 3",
   "language": "python",
   "name": "python3"
  }
 },
 "nbformat": 4,
 "nbformat_minor": 2
}
